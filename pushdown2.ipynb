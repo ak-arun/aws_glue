{
	"cells": [
		{
			"cell_type": "code",
			"execution_count": null,
			"metadata": {
				"editable": true,
				"trusted": true,
				"vscode": {
					"languageId": "python_glue_session"
				}
			},
			"outputs": [],
			"source": [
				"%idle_timeout 2880\n",
				"%glue_version 3.0\n",
				"%worker_type G.1X\n",
				"%number_of_workers 5\n",
				"\n",
				"import sys\n",
				"from awsglue.transforms import *\n",
				"from awsglue.utils import getResolvedOptions\n",
				"from pyspark.context import SparkContext\n",
				"from awsglue.context import GlueContext\n",
				"from awsglue.job import Job\n",
				"  \n",
				"sc = SparkContext.getOrCreate()\n",
				"glueContext = GlueContext(sc)\n",
				"spark = glueContext.spark_session\n",
				"from py4j.java_gateway import java_import\n",
				"java_import(spark._sc._jvm, \"org.apache.spark.sql.api.python.*\")\n",
				"job = Job(glueContext)"
			]
		},
		{
			"cell_type": "code",
			"execution_count": null,
			"metadata": {
				"editable": true,
				"trusted": true,
				"vscode": {
					"languageId": "python_glue_session"
				}
			},
			"outputs": [],
			"source": [
				"df = spark.read.option(\"header\", True).format(\"csv\").load(\"s3://BUCKET/glue/data/csv/people/export.csv\")\n",
				"df=df.filter(df.state == \"IN\")\n",
				"df.explain()"
			]
		},
		{
			"cell_type": "code",
			"execution_count": null,
			"metadata": {
				"editable": true,
				"trusted": true,
				"vscode": {
					"languageId": "python_glue_session"
				}
			},
			"outputs": [],
			"source": [
				"csv_dynamic_frame = glueContext.create_dynamic_frame.from_options(\n",
				"    connection_type=\"s3\",\n",
				"    format_options={\"header\": True},\n",
				"    connection_options={\"paths\": [\"s3://BUCKET/glue/data/csv/people/export.csv\"]},\n",
				"    format=\"csv\"\n",
				")\n",
				"\n",
				"filtered_dynamic_frame = csv_dynamic_frame.filter(\n",
				"    lambda x: x[\"state\"] == \"IN\"\n",
				")\n",
				"\n",
				"filtered_dynamic_frame.toDF().explain()"
			]
		},
		{
			"cell_type": "code",
			"execution_count": null,
			"metadata": {
				"tags": [],
				"trusted": true,
				"vscode": {
					"languageId": "python_glue_session"
				}
			},
			"outputs": [],
			"source": [
				"dynamic_frame_frm_catalog = glueContext.create_dynamic_frame.from_catalog(\n",
				"    database=\"default\",\n",
				"    table_name=\"pushdown_people\"\n",
				")\n",
				"\n",
				"filtered_dynamic_frame_frm_catalog = dynamic_frame_frm_catalog.filter(\n",
				"    lambda x: x[\"state\"] == \"IN\"\n",
				")\n",
				"\n",
				"filtered_dynamic_frame_frm_catalog.toDF().explain()"
			]
		}
	],
	"metadata": {
		"kernelspec": {
			"display_name": "Glue PySpark",
			"language": "python",
			"name": "glue_pyspark"
		},
		"language_info": {
			"codemirror_mode": {
				"name": "python",
				"version": 3
			},
			"file_extension": ".py",
			"mimetype": "text/x-python",
			"name": "Python_Glue_Session",
			"pygments_lexer": "python3"
		}
	},
	"nbformat": 4,
	"nbformat_minor": 4
}
